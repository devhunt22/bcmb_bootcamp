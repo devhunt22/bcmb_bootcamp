{
 "cells": [
  {
   "cell_type": "markdown",
   "metadata": {},
   "source": [
    "# Day 2 - Python Lunch Exercises"
   ]
  },
  {
   "cell_type": "markdown",
   "metadata": {},
   "source": [
    "1. Assign integer values to the variables x and y. Write an if/else/elif control statement that prints out which variable is greater (or if they are equal), along with both their values. For example: \n",
    "\n",
    "'The value of x is 45. The value of y is 3. x is greater than y\""
   ]
  },
  {
   "cell_type": "code",
   "execution_count": 40,
   "metadata": {},
   "outputs": [
    {
     "name": "stdout",
     "output_type": "stream",
     "text": [
      "The value of x is 10, the value of y is 20\n",
      "x is less than y\n"
     ]
    }
   ],
   "source": [
    "x = 10\n",
    "y = 20\n",
    "\n",
    "print(f'The value of x is {x}, the value of y is {y}')\n",
    "if x > y:\n",
    "    print('x is greater than y')\n",
    "elif x==y:\n",
    "    print('x is equal to y')\n",
    "else:\n",
    "    print('x is less than y')\n",
    "    \n",
    "\n"
   ]
  },
  {
   "cell_type": "markdown",
   "metadata": {},
   "source": [
    "Create a dictionary that holds the following info about you:\n",
    "- First Name\n",
    "- Undergraduate school\n",
    "- Graduate program\n",
    "- Favorite model organism\n",
    "\n",
    "Use the `keys` attribute/method of your dictionary object to print out your keys.\n"
   ]
  },
  {
   "cell_type": "code",
   "execution_count": 47,
   "metadata": {},
   "outputs": [
    {
     "name": "stdout",
     "output_type": "stream",
     "text": [
      "firstname\n",
      "undergrad\n",
      "gradprog\n",
      "favorg\n"
     ]
    }
   ],
   "source": [
    "myDict = {\n",
    "    'firstname': 'Devin',\n",
    "    'undergrad': 'The University of Montana',\n",
    "    'gradprog': 'BCMB',\n",
    "    'favorg': 'Pseudomonas aeruginosa'\n",
    "}\n",
    "for key in myName:\n",
    "    print(key)"
   ]
  },
  {
   "cell_type": "markdown",
   "metadata": {},
   "source": [
    "Using the dictionary you created above, construct a new string stating your model organsism with the phrase \"is my favorite organism\" appended."
   ]
  },
  {
   "cell_type": "code",
   "execution_count": 46,
   "metadata": {},
   "outputs": [
    {
     "name": "stdout",
     "output_type": "stream",
     "text": [
      "Pseudomonas aeruginosa is my favorite organism.\n"
     ]
    }
   ],
   "source": [
    "favorganism=myDict['favorg'] #Extract value of favorite organism from my dictionary\n",
    "new_string=f'{favorganism} is my favorite organism.' #Merge the extracted value with a string\n",
    "\n",
    "print(new_string) #Print the new string "
   ]
  },
  {
   "cell_type": "markdown",
   "metadata": {},
   "source": [
    "Update your dictionary to include a new k:v pair with the name of your favorite gene."
   ]
  },
  {
   "cell_type": "code",
   "execution_count": 45,
   "metadata": {},
   "outputs": [
    {
     "name": "stdout",
     "output_type": "stream",
     "text": [
      "{'firstname': 'Devin', 'undergrad': 'The University of Montana', 'gradprog': 'BCMB', 'favorg': 'Pseudomonas aeruginosa', 'favgene': 'PFK1'}\n"
     ]
    }
   ],
   "source": [
    "myDict['favgene']='PFK1' #Add new ['key'] and new 'value' to existing dictionary \n",
    "print(myDict) #Print the updated dictionary\n"
   ]
  },
  {
   "cell_type": "markdown",
   "metadata": {},
   "source": [
    "2. The following lists are the majors offered by two different universities. Print the following:\n",
    "- Majors offered by both schools (intersection)\n",
    "- Majors offered by either schools (union)\n",
    "- Majors offered only by school A (difference)\n",
    "- Majors offered only by school B (difference)\n",
    "\n",
    "**Hints**: \n",
    "\n",
    "- lists are iterable, so can be used in for loops! Also remember the `in` operator.\n",
    "\n",
    "- You could also try casting the lists as sets and using set methods to perform the above operations."
   ]
  },
  {
   "cell_type": "code",
   "execution_count": 75,
   "metadata": {},
   "outputs": [
    {
     "name": "stdout",
     "output_type": "stream",
     "text": [
      "{'Biostatistics', 'Biochemistry'}\n",
      "{'Biochemistry', 'Physics', 'Histopathology', 'Biostatistics', 'Ethics', 'Mathematics', 'Molecular Biology', 'Genetics'}\n",
      "{'Molecular Biology', 'Histopathology', 'Genetics'}\n",
      "{'Ethics', 'Mathematics', 'Physics'}\n"
     ]
    }
   ],
   "source": [
    "A = [\"Biochemistry\",\"Molecular Biology\",\"Genetics\", \"Biostatistics\",\"Histopathology\"]\n",
    "B = [\"Mathematics\",\"Physics\",\"Biostatistics\",\"Biochemistry\",\"Ethics\"]\n",
    "\n",
    "## your code here\n",
    "#Convert lists to sets \n",
    "\n",
    "both_maj = set(A).intersection(set(B))\n",
    "print(both_maj)\n",
    "\n",
    "#Majors offered at either school \n",
    "either_maj = set(A).union(set(B))\n",
    "print(either_maj)\n",
    "\n",
    "#Majors only at A\n",
    "A_only=set(A).difference(set(B))\n",
    "print(A_only)\n",
    "\n",
    "#Majors only at B\n",
    "B_only=set(B).difference(set(A))\n",
    "print(B_only)\n",
    "\n"
   ]
  },
  {
   "cell_type": "markdown",
   "metadata": {},
   "source": [
    "3. The first hundred amino acids of Green Fluorescent Protein (https://www.ncbi.nlm.nih.gov/protein/QAA95706.1) are MSKGEELFTGVVPILVELDGDVNGHKFSVSGEGEGDATYGKLTLKFICTTGKLPVPWPTLVTTFTYGVQCFSRYPDHMKQHDFFKSAMPEGYVQERTIFF. \n",
    "- How many Leucines (L) are there?\n",
    "- How many times does any amino acid appear twice in a row? (You don't need to keep track of which amino acids, just return the total number.)\n",
    "\n",
    "Hint: For the second part, we've initialized `repeat_count` with a value of zero, and `previous_character` to an empty string. Try a loop that updates these values."
   ]
  },
  {
   "cell_type": "code",
   "execution_count": 84,
   "metadata": {},
   "outputs": [
    {
     "name": "stdout",
     "output_type": "stream",
     "text": [
      "7\n",
      "6\n"
     ]
    }
   ],
   "source": [
    "gfp_100 = 'MSKGEELFTGVVPILVELDGDVNGHKFSVSGEGEGDATYGKLTLKFICTTGKLPVPWPTLVTTFTYGVQCFSRYPDHMKQHDFFKSAMPEGYVQERTIFF'\n",
    "\n",
    "#How many times does Leu appear in the first 100 aa\n",
    "#First, define leucine as an L\n",
    "Leu=\"L\"\n",
    "#next, define Leu_Count\n",
    "Leu_Count=gfp_100.count(Leu)\n",
    "print(Leu_Count)\n",
    "\n",
    "#How many times does any amino acid appear twice in a row? \n",
    "#Turn first 100aa into a list, so each position is iterable (above = string)\n",
    "gfp_list=list(gfp_100)\n",
    "previous_character= ''\n",
    "repeat_count= 0\n",
    "\n",
    "for x in gfp_list: #starting the loop\n",
    "    if x ==previous_character: #test if x is equal to the previous character\n",
    "        repeat_count=repeat_count+1 #if the above is true, increase the count by 1\n",
    "    previous_character=x #update the previous character to x as the function loops\n",
    "print(repeat_count)\n",
    "    \n",
    "\n",
    "\n",
    "\n"
   ]
  },
  {
   "cell_type": "code",
   "execution_count": null,
   "metadata": {},
   "outputs": [],
   "source": []
  }
 ],
 "metadata": {
  "interpreter": {
   "hash": "f830f5482817da8c94e7b92359ddd59f62b3b721ee2e7f2ba7b076c4827b6548"
  },
  "kernelspec": {
   "display_name": "Python 3",
   "language": "python",
   "name": "python3"
  },
  "language_info": {
   "codemirror_mode": {
    "name": "ipython",
    "version": 3
   },
   "file_extension": ".py",
   "mimetype": "text/x-python",
   "name": "python",
   "nbconvert_exporter": "python",
   "pygments_lexer": "ipython3",
   "version": "3.10.14"
  }
 },
 "nbformat": 4,
 "nbformat_minor": 4
}
