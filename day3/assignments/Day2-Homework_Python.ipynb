{
 "cells": [
  {
   "cell_type": "markdown",
   "id": "65afb152",
   "metadata": {},
   "source": [
    "# Day 2 Homework"
   ]
  },
  {
   "cell_type": "markdown",
   "id": "96e5ef37",
   "metadata": {},
   "source": [
    "1. Here are 25 numbers drawn from a normal distribution. Calculate the mean, standard deviation, and variance of the set.\n",
    "\n",
    "    **Do the mean calculation manually, and then use the built-in functions provided in the **statistics** module for the others.**\n",
    "\n",
    "    **Hint**: The functions `sum`, `len`, `statistics.stdev`, and `statistics.variance` will be useful.\n",
    "    Use the `help` function to learn more about them, if needed."
   ]
  },
  {
   "cell_type": "code",
   "execution_count": 7,
   "id": "68e51639",
   "metadata": {},
   "outputs": [
    {
     "name": "stdout",
     "output_type": "stream",
     "text": [
      "[10.245326341707864, 9.503155526588797, 11.254785931057462, 9.861940937257188, 9.024179666704676, 10.565050217344965, 8.83235498617007, 11.738025467335527, 9.675490796158401, 11.182326307936343, 11.504353761657875, 11.949497039569765, 12.311774710432584, 9.534829130637144, 11.481342356701061, 11.46816841749334, 10.367803012316621, 9.343104196870232, 9.060388465261997, 9.051983236409392, 10.366470756822187, 9.718266746644588, 10.649728727536722, 7.917214485592975, 9.069458652778662]\n",
      "10.227080794999457\n",
      "(10.227080794999457, 1.1534838840843793, 1.3305250708423857)\n"
     ]
    }
   ],
   "source": [
    "import random\n",
    "import statistics\n",
    "\n",
    "#help(len)\n",
    " \n",
    "def sample_normal(mean, sd, n = 1, seed = 42):\n",
    "    \"\"\"Draw n samples from a normal distribution with given mean and standard deviation\"\"\"\n",
    "    random.seed(seed)\n",
    "    return [random.normalvariate(mean, sd) for _ in range(n)]\n",
    "\n",
    "my_samples = sample_normal(10, 1, n=25) \n",
    "print(my_samples) \n",
    " \n",
    "## your manual mean calculation code here\n",
    "manual_mean =(sum(my_samples)/len(my_samples))\n",
    "\n",
    "print(manual_mean)\n",
    "\n",
    "## Calculate mean, sd, and variance using statistics module\n",
    "mean = statistics.mean(my_samples)\n",
    "sd = statistics.stdev(my_samples)\n",
    "var = statistics.variance(my_samples)\n",
    "\n",
    "print((mean, sd, var))"
   ]
  },
  {
   "cell_type": "markdown",
   "id": "42ecf210",
   "metadata": {},
   "source": [
    "From *my_samples* above, print out the following:\n",
    "- The first five elements (remember that python begins with index 0)\n",
    "- The last five elements\n",
    "- The 13th and 14th elements"
   ]
  },
  {
   "cell_type": "code",
   "execution_count": 36,
   "id": "07850c76",
   "metadata": {},
   "outputs": [
    {
     "name": "stdout",
     "output_type": "stream",
     "text": [
      "[[10.245326341707864, 9.503155526588797, 11.254785931057462, 9.861940937257188, 9.024179666704676]]\n",
      "[[10.366470756822187, 9.718266746644588, 10.649728727536722, 7.917214485592975, 9.069458652778662]]\n",
      "[[12.311774710432584, 9.534829130637144]]\n"
     ]
    }
   ],
   "source": [
    "print([my_samples[:5]])\n",
    "print([my_samples[-5:]])\n",
    "print([my_samples[12:14:1]])"
   ]
  },
  {
   "cell_type": "markdown",
   "id": "575dff49",
   "metadata": {},
   "source": [
    "2. You are given a sample of a DNA plasmid with a known concentration of 1.85ug/uL and a length of 1,354 bases, and are asked to calculate the molarity of the sample. \n",
    "\n",
    "  * Create a function to calculate the molarity of a double-stranded DNA molecule given this information. (Google is your friend here to find the formula and the molecular weight for an 'average' oligonucleotide base pair)."
   ]
  },
  {
   "cell_type": "code",
   "execution_count": 110,
   "id": "be5d15c3",
   "metadata": {},
   "outputs": [
    {
     "name": "stdout",
     "output_type": "stream",
     "text": [
      "Molarity: 2.2110201450945515e-06\n",
      "Concentration: 0: 0.0 M\n",
      "Concentration: 1: 6.472910868017348e-07 M\n",
      "Concentration: 2: 1.2945821736034696e-06 M\n",
      "Concentration: 3: 1.941873260405204e-06 M\n",
      "Concentration: 4: 2.589164347206939e-06 M\n",
      "Concentration: 5: 3.236455434008674e-06 M\n",
      "Concentration: 6: 3.883746520810408e-06 M\n",
      "Concentration: 7: 4.531037607612143e-06 M\n",
      "Concentration: 8: 5.178328694413878e-06 M\n",
      "Concentration: 9: 5.8256197812156125e-06 M\n",
      "Concentration: 10: 6.472910868017348e-06 M\n"
     ]
    }
   ],
   "source": [
    "def calc_molarity(plasmid_length, conc):\n",
    "    mol = ((conc/(617.96*plasmid_length)))\n",
    "    return mol\n",
    "\n",
    "\n",
    "# Test your function with the above values\n",
    "plasmid_length = 1354\n",
    "conc = 1.85\n",
    "\n",
    "print(f'Molarity: {calc_molarity(plasmid_length,conc)}')\n",
    "\n",
    "\n",
    "plasmid_length = 2500\n",
    "conc_range=range(0,11)\n",
    "\n",
    "for x in conc_range: #defining x as the values within the above defined range\n",
    "    print(f'Concentration: {x}: {calc_molarity(plasmid_length,x)} M')\n",
    "\n",
    "\n",
    "\n"
   ]
  },
  {
   "cell_type": "markdown",
   "id": "07715398",
   "metadata": {},
   "source": [
    "  * You receive another plasmid with a length of 2,500 bases. You make a series of 10 dilutions ranging from 0-10ug/ul. Construct a loop to calculate the molarity of each dilution. (hint: help(range))"
   ]
  },
  {
   "cell_type": "markdown",
   "id": "2d859cdc",
   "metadata": {},
   "source": [
    "3. Using either a for loop or a list comprehension approach, translate the following formulae and solve for the indicated range of values\n",
    "\n",
    "* $x^2$ for $x:\\{0 ... 9\\}$"
   ]
  },
  {
   "cell_type": "code",
   "execution_count": 76,
   "id": "2fc6c680",
   "metadata": {},
   "outputs": [
    {
     "name": "stdout",
     "output_type": "stream",
     "text": [
      "[0, 1, 4, 9, 16, 25, 36, 49, 64, 81]\n"
     ]
    }
   ],
   "source": [
    "solutions=[x**2 for x in range(0,10)]\n",
    "print(solutions)"
   ]
  },
  {
   "cell_type": "markdown",
   "id": "d104a2bf",
   "metadata": {},
   "source": [
    "* $2^x$ for all even numbers between 0 and 20"
   ]
  },
  {
   "cell_type": "code",
   "execution_count": 78,
   "id": "7fd843e2",
   "metadata": {},
   "outputs": [
    {
     "name": "stdout",
     "output_type": "stream",
     "text": [
      "[1, 4, 16, 64, 256, 1024, 4096, 16384, 65536, 262144]\n"
     ]
    }
   ],
   "source": [
    "solution_even=[2**x for x in range(0,20) if x%2==0]\n",
    "print(solution_even)"
   ]
  },
  {
   "cell_type": "markdown",
   "id": "c19f4c19",
   "metadata": {},
   "source": [
    "* $3x^4-2x^3+17x$ for $x:\\{1 ... 200\\}$"
   ]
  },
  {
   "cell_type": "code",
   "execution_count": 80,
   "id": "cf3ad1cf",
   "metadata": {},
   "outputs": [
    {
     "name": "stdout",
     "output_type": "stream",
     "text": [
      "[18, 66, 240, 708, 1710, 3558, 6636, 11400, 18378, 28170, 41448, 58956, 81510, 109998, 145380, 188688, 241026, 303570, 377568, 464340, 565278, 681846, 815580, 968088, 1141050, 1336218, 1555416, 1800540, 2073558, 2376510, 2711508, 3080736, 3486450, 3930978, 4416720, 4946148, 5521806, 6146310, 6822348, 7552680, 8340138, 9187626, 10098120, 11074668, 12120390, 13238478, 14432196, 15704880, 17059938, 18500850, 20031168, 21654516, 23374590, 25195158, 27120060, 29153208, 31298586, 33560250, 35942328, 38449020, 41084598, 43853406, 46759860, 49808448, 53003730, 56350338, 59852976, 63516420, 67345518, 71345190, 75520428, 79876296, 84417930, 89150538, 94079400, 99209868, 104547366, 110097390, 115865508, 121857360, 128078658, 134535186, 141232800, 148177428, 155375070, 162831798, 170553756, 178547160, 186818298, 195373530, 204219288, 213362076, 222808470, 232565118, 242638740, 253036128, 263764146, 274829730, 286239888, 298001700, 310122318, 322608966, 335468940, 348709608, 362338410, 376362858, 390790536, 405629100, 420886278, 436569870, 452687748, 469247856, 486258210, 503726898, 521662080, 540071988, 558964926, 578349270, 598233468, 618626040, 639535578, 660970746, 682940280, 705452988, 728517750, 752143518, 776339316, 801114240, 826477458, 852438210, 879005808, 906189636, 933999150, 962443878, 991533420, 1021277448, 1051685706, 1082768010, 1114534248, 1146994380, 1180158438, 1214036526, 1248638820, 1283975568, 1320057090, 1356893778, 1394496096, 1432874580, 1472039838, 1512002550, 1552773468, 1594363416, 1636783290, 1680044058, 1724156760, 1769132508, 1814982486, 1861717950, 1909350228, 1957890720, 2007350898, 2057742306, 2109076560, 2161365348, 2214620430, 2268853638, 2324076876, 2380302120, 2437541418, 2495806890, 2555110728, 2615465196, 2676882630, 2739375438, 2802956100, 2867637168, 2933431266, 3000351090, 3068409408, 3137619060, 3207992958, 3279544086, 3352285500, 3426230328, 3501391770, 3577783098, 3655417656, 3734308860, 3814470198, 3895915230, 3978657588, 4062710976, 4148089170, 4234806018, 4322875440, 4412311428, 4503128046, 4595339430, 4688959788, 4784003400]\n"
     ]
    }
   ],
   "source": [
    "solutions=[(3*x**4)-(2*x**3)+(17*x) for x in range(1,201)]\n",
    "print(solutions)"
   ]
  },
  {
   "cell_type": "markdown",
   "id": "58f31c82",
   "metadata": {},
   "source": [
    "4. Solve the following equation for $x$:\n",
    "\n",
    "$x = p^2 + 2pq + q^2$ where $0<p<1$ and $q=1-p$ over the range of P values provided below. "
   ]
  },
  {
   "cell_type": "code",
   "execution_count": 104,
   "id": "5d503dc5",
   "metadata": {},
   "outputs": [
    {
     "name": "stdout",
     "output_type": "stream",
     "text": [
      "1.0\n",
      "0.8\n",
      "0.6699999999999999\n",
      "0.5\n",
      "0.33333333\n",
      "0.010000000000000009\n"
     ]
    }
   ],
   "source": [
    "# Here are the range of p's you will need (note 0<p<1 and the Set P variable is capitalized.)\n",
    "P = [0.0, 0.2, 0.33, 0.5, 0.66666667, 0.99]\n",
    "\n",
    "# First define a function `q` that takes p as an argument and returns q (ie. q=1-p)\n",
    "def q(p: float):\n",
    "     valQ = 1-p\n",
    "     return valQ\n",
    "\n",
    "for p in P:\n",
    "    print(q(p))\n",
    "\n",
    "\n"
   ]
  },
  {
   "cell_type": "markdown",
   "id": "ceefacd0",
   "metadata": {},
   "source": [
    "Using either a list comprehension or a for-loop along with your newly created `q` function, \n",
    "\n",
    "**translate the above formula and calculate the solution over the values in `P`**"
   ]
  },
  {
   "cell_type": "code",
   "execution_count": 118,
   "id": "a762b758",
   "metadata": {},
   "outputs": [
    {
     "name": "stdout",
     "output_type": "stream",
     "text": [
      "1.0\n",
      "0.8\n",
      "0.6699999999999999\n",
      "0.5\n",
      "0.33333333\n",
      "0.010000000000000009\n",
      "1.0\n"
     ]
    }
   ],
   "source": [
    "# Below is a pseudocode template to help you get started\n",
    "for p in P:\n",
    "    print(q(p))\n",
    "\n",
    "\n",
    "for p in P:\n",
    "    x=p**2+(2*p*q(p))+q(p)**2\n",
    "print(x)\n",
    "# for p in P:\n",
    "#     Find q for given p\n",
    "#     x = ??? # put your formula here using p and q\n",
    "#     print(x)"
   ]
  },
  {
   "cell_type": "markdown",
   "id": "779b27bb",
   "metadata": {},
   "source": [
    "_Bonus points: What is the name of this formula and what does it describe?_"
   ]
  },
  {
   "cell_type": "markdown",
   "id": "dcf71e20",
   "metadata": {},
   "source": [
    "Answer: Hardy-Weinberg equilibrium, it describes the frequency of alleles p and q in a population that is NOT evolving. "
   ]
  },
  {
   "cell_type": "markdown",
   "id": "14e581e1-b301-4ab9-8ee8-f2dccbd4f77d",
   "metadata": {
    "tags": []
   },
   "source": [
    "#### Bonus Problem\n",
    "\n",
    "5. Write a function that takes a DNA sequence as an argument and:\n",
    "    * a) Checks to make sure that the DNA sequence uses only appropriate nucleotides\n",
    "    * b) Returns a tuple containing the GC content, length, and reverse complement sequence of the input DNA molecule\n",
    "    \n",
    "**Hint:** _you can define functions for each of the requested properties and another function to create/organize the output_"
   ]
  },
  {
   "cell_type": "code",
   "execution_count": 108,
   "id": "339c6aad-b7f6-4989-a44b-fb14a1f6da39",
   "metadata": {},
   "outputs": [
    {
     "ename": "TypeError",
     "evalue": "main() takes 0 positional arguments but 1 was given",
     "output_type": "error",
     "traceback": [
      "\u001b[0;31m---------------------------------------------------------------------------\u001b[0m",
      "\u001b[0;31mTypeError\u001b[0m                                 Traceback (most recent call last)",
      "Cell \u001b[0;32mIn[108], line 24\u001b[0m\n\u001b[1;32m     22\u001b[0m \u001b[38;5;66;03m# Test your main() function with the following sequence\u001b[39;00m\n\u001b[1;32m     23\u001b[0m test_seq \u001b[38;5;241m=\u001b[39m \u001b[38;5;124m'\u001b[39m\u001b[38;5;124mCAGTACGATCTTGACGGTACG\u001b[39m\u001b[38;5;124m'\u001b[39m\n\u001b[0;32m---> 24\u001b[0m \u001b[38;5;28mprint\u001b[39m(\u001b[43mmain\u001b[49m\u001b[43m(\u001b[49m\u001b[43mtest_seq\u001b[49m\u001b[43m)\u001b[49m)\n",
      "\u001b[0;31mTypeError\u001b[0m: main() takes 0 positional arguments but 1 was given"
     ]
    }
   ],
   "source": [
    "def is_DNA():\n",
    "    \"\"\"Test whether a given sequence is a valid DNA sequence (ie contains only ATGC bases).\n",
    "    Should return True or False depending on whether the sequence is valid.\"\"\"\n",
    "    return is_valid\n",
    "\n",
    "\n",
    "def calc_GC():\n",
    "    \"\"\"Calculate the GC percent of the DNA sequence passed in as an argument.\"\"\"\n",
    "    return gc\n",
    "\n",
    "def reverse_complement():\n",
    "    \"\"\"Take a DNA sequence (seq) and return the reverse complement\n",
    "    Hint: you can create a dictionary of complemntary bases and use that to look up the complement of a given base\n",
    "    \"\"\"\n",
    "    complements = {}\n",
    "    return revcomp\n",
    "    \n",
    "def main():\n",
    "    # Your 'main' function to take an input sequence and process as described above\n",
    "    return (gc, length, revcomp)\n",
    "\n",
    "# Test your main() function with the following sequence\n",
    "test_seq = 'CAGTACGATCTTGACGGTACG'\n",
    "print(main(test_seq))"
   ]
  },
  {
   "cell_type": "markdown",
   "id": "d9a32675-3c1b-4f05-ae71-301c0aad6d4c",
   "metadata": {},
   "source": [
    "c) Apply your main function(s) to calculate the above parameters of interest (b) for the following of sequences in the `dna_seqs` list."
   ]
  },
  {
   "cell_type": "code",
   "execution_count": null,
   "id": "ee214c22-ed58-454d-bb56-e7198d6ada40",
   "metadata": {},
   "outputs": [],
   "source": [
    "dna_seqs=[\n",
    "    'TTATCAGCGGATTATTAGGTATAGTGCTATGC',\n",
    "    'CGAGATTAGCGATTTGTG',\n",
    "    'GGTATACTCTGCACGACGAGCGAGCGACGGACGACGGCICGATCTATCTA'\n",
    "    'ACGTACGTACGTACGTACGTACGTACGTACGTACGT',\n",
    "    'tacgagctactgagcgatcggatcgtacgtagc',\n",
    "    'AAAAAAAAAAAAAAAAAAAAAAAAAAAAAAAAAAAAAAAAAAAAAA',\n",
    "    'GGCTTAATATCGAGCTAGTAGTCTATTCTAGCGAGCGACTATTCGACTATCGATGCTATCTGCGCAGCGAGCATCGAGCGCTATCGAGCTAGCTAGCTAGCTATCATCGAGCTACTAGCATCTGATTATTCTTTAGCGCGACGACT'\n",
    "]\n"
   ]
  }
 ],
 "metadata": {
  "interpreter": {
   "hash": "f830f5482817da8c94e7b92359ddd59f62b3b721ee2e7f2ba7b076c4827b6548"
  },
  "kernelspec": {
   "display_name": "Python 3",
   "language": "python",
   "name": "python3"
  },
  "language_info": {
   "codemirror_mode": {
    "name": "ipython",
    "version": 3
   },
   "file_extension": ".py",
   "mimetype": "text/x-python",
   "name": "python",
   "nbconvert_exporter": "python",
   "pygments_lexer": "ipython3",
   "version": "3.10.14"
  }
 },
 "nbformat": 4,
 "nbformat_minor": 5
}
